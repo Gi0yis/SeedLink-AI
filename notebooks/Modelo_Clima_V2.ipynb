{
  "nbformat": 4,
  "nbformat_minor": 0,
  "metadata": {
    "colab": {
      "provenance": []
    },
    "kernelspec": {
      "name": "python3",
      "display_name": "Python 3"
    },
    "language_info": {
      "name": "python"
    }
  },
  "cells": [
    {
      "cell_type": "markdown",
      "source": [
        "# Modelo de prediccion de clima V2\n",
        "Pronostica el clima desde la fecha seleccionada hasta 4 semanas después."
      ],
      "metadata": {
        "id": "_MQIdNxlF4Hw"
      }
    },
    {
      "cell_type": "markdown",
      "source": [
        "## Importar Librerías"
      ],
      "metadata": {
        "id": "Ql0UnM6YGMpy"
      }
    },
    {
      "cell_type": "code",
      "execution_count": 1,
      "metadata": {
        "id": "IBoeHrlZFofy"
      },
      "outputs": [],
      "source": [
        "import pandas as pd\n",
        "import numpy as np\n",
        "import torch\n",
        "import torch.nn as nn\n",
        "import torch.optim as optim\n",
        "from sklearn.preprocessing import MinMaxScaler\n",
        "from sklearn.model_selection import train_test_split"
      ]
    },
    {
      "cell_type": "markdown",
      "source": [
        "## Cargar y Combinar los Datos"
      ],
      "metadata": {
        "id": "ho8EL_yQGXah"
      }
    },
    {
      "cell_type": "code",
      "source": [
        "# Cargar los datos de cada municipio\n",
        "departments = ['Suchitepéquez', 'Quetzaltenango', 'Escuintla']\n",
        "municipalities = ['San Antonio Suchitepéquez', 'Mazatenango', 'Chicacao',\n",
        "                  'Quetzaltenango', 'Cantel', 'Concepción Chiquirichapa',\n",
        "                  'Escuintla', 'Santa Lucía Cotzumalguapa', 'Tiquisate']\n",
        "\n",
        "all_data = []\n",
        "for dep in departments:\n",
        "    for mun in municipalities:\n",
        "        if mun in ['San Antonio Suchitepéquez', 'Mazatenango', 'Chicacao'] and dep == 'Suchitepéquez':\n",
        "            file_path = f\"/content/drive/MyDrive/datos clima/{dep}_{mun}.csv\"\n",
        "        elif mun in ['Quetzaltenango', 'Cantel', 'Concepción Chiquirichapa'] and dep == 'Quetzaltenango':\n",
        "            file_path = f\"/content/drive/MyDrive/datos clima/{dep}_{mun}.csv\"\n",
        "        elif mun in ['Escuintla', 'Santa Lucía Cotzumalguapa', 'Tiquisate'] and dep == 'Escuintla':\n",
        "            file_path = f\"/content/drive/MyDrive/datos clima/{dep}_{mun}.csv\"\n",
        "        else:\n",
        "            continue\n",
        "\n",
        "        # Leer archivo CSV\n",
        "        df = pd.read_csv(file_path)\n",
        "        df['department'] = dep\n",
        "        df['municipality'] = mun\n",
        "        all_data.append(df)\n",
        "\n",
        "# Combinar en un único DataFrame\n",
        "data = pd.concat(all_data, ignore_index=True)\n",
        "\n",
        "# Seleccionar columnas relevantes\n",
        "data = data[['YEAR', 'DOY', 'T2M', 'RH2M', 'PRECTOTCORR', 'department', 'municipality']]"
      ],
      "metadata": {
        "id": "SUL-_g8LGSdE"
      },
      "execution_count": 2,
      "outputs": []
    },
    {
      "cell_type": "markdown",
      "source": [
        "## Preprocesamiento y Generación de Ventanas"
      ],
      "metadata": {
        "id": "nEKjwdvSGgFQ"
      }
    },
    {
      "cell_type": "code",
      "source": [
        "# Normalizar los datos\n",
        "scaler = MinMaxScaler()\n",
        "data[['T2M', 'RH2M', 'PRECTOTCORR']] = scaler.fit_transform(data[['T2M', 'RH2M', 'PRECTOTCORR']])\n",
        "\n",
        "# Crear ventanas de secuencias\n",
        "window_size = 7\n",
        "X, y = [], []\n",
        "\n",
        "for municipality in data['municipality'].unique():\n",
        "    municipality_data = data[data['municipality'] == municipality]\n",
        "    municipality_values = municipality_data[['T2M', 'RH2M', 'PRECTOTCORR']].values\n",
        "    for i in range(len(municipality_values) - window_size):\n",
        "        X.append(municipality_values[i:i+window_size])\n",
        "        y.append(municipality_values[i+window_size])\n",
        "\n",
        "X = torch.tensor(X, dtype=torch.float32)\n",
        "y = torch.tensor(y, dtype=torch.float32)\n",
        "\n",
        "# Dividir en entrenamiento y prueba\n",
        "X_train, X_test, y_train, y_test = train_test_split(X, y, test_size=0.2, random_state=42)"
      ],
      "metadata": {
        "colab": {
          "base_uri": "https://localhost:8080/"
        },
        "id": "NhP_VImaGh8R",
        "outputId": "74b5b8e1-a790-42f2-cadc-5d7638e6c171"
      },
      "execution_count": 3,
      "outputs": [
        {
          "output_type": "stream",
          "name": "stderr",
          "text": [
            "<ipython-input-3-071548e93360>:16: UserWarning: Creating a tensor from a list of numpy.ndarrays is extremely slow. Please consider converting the list to a single numpy.ndarray with numpy.array() before converting to a tensor. (Triggered internally at ../torch/csrc/utils/tensor_new.cpp:278.)\n",
            "  X = torch.tensor(X, dtype=torch.float32)\n"
          ]
        }
      ]
    },
    {
      "cell_type": "markdown",
      "source": [
        "## Definición del Modelo"
      ],
      "metadata": {
        "id": "G8PA4ccNGmJJ"
      }
    },
    {
      "cell_type": "code",
      "source": [
        "class ClimatePredictor(nn.Module):\n",
        "    def __init__(self, input_size, hidden_size, output_size):\n",
        "        super(ClimatePredictor, self).__init__()\n",
        "        self.lstm = nn.LSTM(input_size, hidden_size, batch_first=True)\n",
        "        self.fc = nn.Linear(hidden_size, output_size)\n",
        "\n",
        "    def forward(self, x):\n",
        "        _, (hidden, _) = self.lstm(x)\n",
        "        out = self.fc(hidden[-1])\n",
        "        return out\n",
        "\n",
        "# Hiperparámetros\n",
        "input_size = 3  # T2M, RH2M, PRECTOTCORR\n",
        "hidden_size = 64\n",
        "output_size = 3  # Predicción de T2M, RH2M, PRECTOTCORR\n",
        "\n",
        "model = ClimatePredictor(input_size, hidden_size, output_size)"
      ],
      "metadata": {
        "id": "p3BcU-1vGqEx"
      },
      "execution_count": 4,
      "outputs": []
    },
    {
      "cell_type": "markdown",
      "source": [
        "## Entrenamiento del Modelo"
      ],
      "metadata": {
        "id": "QR0WqTJYGuus"
      }
    },
    {
      "cell_type": "code",
      "source": [
        "# Configuración de entrenamiento\n",
        "criterion = nn.MSELoss()\n",
        "optimizer = optim.Adam(model.parameters(), lr=0.001)\n",
        "epochs = 150\n",
        "\n",
        "for epoch in range(epochs):\n",
        "    model.train()\n",
        "    optimizer.zero_grad()\n",
        "    predictions = model(X_train)\n",
        "    loss = criterion(predictions, y_train)\n",
        "    loss.backward()\n",
        "    optimizer.step()\n",
        "\n",
        "    if (epoch + 1) % 10 == 0:\n",
        "        print(f\"Epoch {epoch+1}/{epochs}, Loss: {loss.item():.4f}\")"
      ],
      "metadata": {
        "colab": {
          "base_uri": "https://localhost:8080/"
        },
        "id": "RF8EYxh9G0Wg",
        "outputId": "7e405d92-d4bf-4588-babf-7d6033f166d1"
      },
      "execution_count": 10,
      "outputs": [
        {
          "output_type": "stream",
          "name": "stdout",
          "text": [
            "Epoch 10/150, Loss: 0.0048\n",
            "Epoch 20/150, Loss: 0.0043\n",
            "Epoch 30/150, Loss: 0.0041\n",
            "Epoch 40/150, Loss: 0.0040\n",
            "Epoch 50/150, Loss: 0.0039\n",
            "Epoch 60/150, Loss: 0.0038\n",
            "Epoch 70/150, Loss: 0.0038\n",
            "Epoch 80/150, Loss: 0.0037\n",
            "Epoch 90/150, Loss: 0.0037\n",
            "Epoch 100/150, Loss: 0.0036\n",
            "Epoch 110/150, Loss: 0.0036\n",
            "Epoch 120/150, Loss: 0.0035\n",
            "Epoch 130/150, Loss: 0.0035\n",
            "Epoch 140/150, Loss: 0.0034\n",
            "Epoch 150/150, Loss: 0.0034\n"
          ]
        }
      ]
    },
    {
      "cell_type": "markdown",
      "source": [
        "## Evaluación del Modelo"
      ],
      "metadata": {
        "id": "n_mefrcUG6dB"
      }
    },
    {
      "cell_type": "code",
      "source": [
        "model.eval()\n",
        "with torch.no_grad():\n",
        "    test_predictions = model(X_test)\n",
        "    test_loss = criterion(test_predictions, y_test)\n",
        "    print(f\"Test Loss: {test_loss.item():.4f}\")"
      ],
      "metadata": {
        "colab": {
          "base_uri": "https://localhost:8080/"
        },
        "id": "qNDaRjIeG-ik",
        "outputId": "c8f8272f-8b5e-42ca-8223-558b7e41f0d3"
      },
      "execution_count": 11,
      "outputs": [
        {
          "output_type": "stream",
          "name": "stdout",
          "text": [
            "Test Loss: 0.0033\n"
          ]
        }
      ]
    },
    {
      "cell_type": "markdown",
      "source": [
        "## Predicción a Futuro"
      ],
      "metadata": {
        "id": "zjcjve0wHLDG"
      }
    },
    {
      "cell_type": "code",
      "source": [
        "def predict_future(model, data, window_size, days):\n",
        "    model.eval()\n",
        "    predictions = []\n",
        "    current_sequence = data[-window_size:]\n",
        "\n",
        "    with torch.no_grad():\n",
        "        for _ in range(days):\n",
        "            current_sequence_tensor = torch.tensor(current_sequence, dtype=torch.float32).unsqueeze(0)\n",
        "            prediction = model(current_sequence_tensor).squeeze(0).numpy()\n",
        "            predictions.append(prediction)\n",
        "            current_sequence = np.vstack((current_sequence[1:], prediction))\n",
        "\n",
        "    return predictions\n",
        "\n",
        "# Predicción para 28 días (4 semanas)\n",
        "future_predictions = predict_future(model, data[['T2M', 'RH2M', 'PRECTOTCORR']].values, window_size, 28)\n",
        "\n",
        "# Desnormalizar resultados para interpretarlos\n",
        "future_predictions = scaler.inverse_transform(future_predictions)\n",
        "print(\"Predicciones futuras:\")\n",
        "for i, pred in enumerate(future_predictions, 1):\n",
        "    print(f\"Day {i}: Temperature={pred[0]:.2f}, Humidity={pred[1]:.2f}, Rainfall={pred[2]:.2f}\")"
      ],
      "metadata": {
        "colab": {
          "base_uri": "https://localhost:8080/"
        },
        "id": "BCADygujHOuv",
        "outputId": "a6820d61-a33e-48c2-df6b-e869ce55f80c"
      },
      "execution_count": 12,
      "outputs": [
        {
          "output_type": "stream",
          "name": "stdout",
          "text": [
            "Predicciones futuras:\n",
            "Day 1: Temperature=22.71, Humidity=86.55, Rainfall=8.86\n",
            "Day 2: Temperature=22.55, Humidity=86.92, Rainfall=10.09\n",
            "Day 3: Temperature=22.46, Humidity=86.89, Rainfall=10.74\n",
            "Day 4: Temperature=22.37, Humidity=86.87, Rainfall=11.26\n",
            "Day 5: Temperature=22.38, Humidity=86.64, Rainfall=11.61\n",
            "Day 6: Temperature=22.43, Humidity=86.39, Rainfall=11.82\n",
            "Day 7: Temperature=22.35, Humidity=86.36, Rainfall=11.92\n",
            "Day 8: Temperature=22.17, Humidity=86.65, Rainfall=12.05\n",
            "Day 9: Temperature=22.10, Humidity=86.68, Rainfall=12.13\n",
            "Day 10: Temperature=22.04, Humidity=86.69, Rainfall=12.16\n",
            "Day 11: Temperature=21.98, Humidity=86.70, Rainfall=12.17\n",
            "Day 12: Temperature=21.92, Humidity=86.72, Rainfall=12.17\n",
            "Day 13: Temperature=21.85, Humidity=86.76, Rainfall=12.15\n",
            "Day 14: Temperature=21.77, Humidity=86.80, Rainfall=12.13\n",
            "Day 15: Temperature=21.69, Humidity=86.85, Rainfall=12.10\n",
            "Day 16: Temperature=21.62, Humidity=86.88, Rainfall=12.07\n",
            "Day 17: Temperature=21.55, Humidity=86.91, Rainfall=12.04\n",
            "Day 18: Temperature=21.48, Humidity=86.94, Rainfall=12.01\n",
            "Day 19: Temperature=21.41, Humidity=86.97, Rainfall=11.97\n",
            "Day 20: Temperature=21.34, Humidity=87.00, Rainfall=11.93\n",
            "Day 21: Temperature=21.26, Humidity=87.03, Rainfall=11.89\n",
            "Day 22: Temperature=21.19, Humidity=87.06, Rainfall=11.85\n",
            "Day 23: Temperature=21.12, Humidity=87.09, Rainfall=11.81\n",
            "Day 24: Temperature=21.04, Humidity=87.12, Rainfall=11.77\n",
            "Day 25: Temperature=20.97, Humidity=87.14, Rainfall=11.72\n",
            "Day 26: Temperature=20.89, Humidity=87.17, Rainfall=11.68\n",
            "Day 27: Temperature=20.82, Humidity=87.19, Rainfall=11.63\n",
            "Day 28: Temperature=20.74, Humidity=87.22, Rainfall=11.59\n"
          ]
        }
      ]
    },
    {
      "cell_type": "markdown",
      "source": [
        "## Convertir el modelo a TorchScript (PyTorch Mobile)"
      ],
      "metadata": {
        "id": "C5tadKJ1lo-a"
      }
    },
    {
      "cell_type": "code",
      "source": [
        "import torch\n",
        "\n",
        "scripted_model = torch.jit.script(model)\n",
        "scripted_model.save(\"climate_predictor.pt\")\n"
      ],
      "metadata": {
        "id": "blrW9xaXLdMu"
      },
      "execution_count": 9,
      "outputs": []
    }
  ]
}